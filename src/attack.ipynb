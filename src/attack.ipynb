{
 "cells": [
  {
   "cell_type": "code",
   "execution_count": 1,
   "metadata": {},
   "outputs": [
    {
     "name": "stdout",
     "output_type": "stream",
     "text": [
      "WARNING:tensorflow:From /home/zekrom/CMU/Fall2019/10715 - Advanced Introduction to Machine Learning/Project/venv/lib/python3.5/site-packages/cleverhans/utils_tf.py:341: The name tf.GraphKeys is deprecated. Please use tf.compat.v1.GraphKeys instead.\n",
      "\n"
     ]
    }
   ],
   "source": [
    "import numpy as np\n",
    "import tensorflow as tf\n",
    "import time\n",
    "from matplotlib import pyplot as plt\n",
    "\n",
    "from cleverhans.utils_tf import batch_eval\n",
    "\n",
    "\n",
    "from utils_config import ModelConfig\n",
    "from utils_experiment import get_data_dict, train_model\n",
    "from utils_attacks import get_deltas\n",
    "from dknn import DkNNModel"
   ]
  },
  {
   "cell_type": "code",
   "execution_count": 2,
   "metadata": {},
   "outputs": [],
   "source": [
    "plt.rcParams[\"figure.figsize\"] = (15, 10)"
   ]
  },
  {
   "cell_type": "code",
   "execution_count": 3,
   "metadata": {},
   "outputs": [],
   "source": [
    "mc = ModelConfig(config_file='../configs/config_mnist.yaml',\n",
    "                 root_dir='../results/')"
   ]
  },
  {
   "cell_type": "code",
   "execution_count": 4,
   "metadata": {},
   "outputs": [],
   "source": [
    "#train_model(mc)"
   ]
  },
  {
   "cell_type": "code",
   "execution_count": 5,
   "metadata": {},
   "outputs": [],
   "source": [
    "data_dict = get_data_dict(mc)\n",
    "\n",
    "# parse data_dict\n",
    "x_train = data_dict['x_train'] \n",
    "labels_train = data_dict['labels_train']\n",
    "x_test = data_dict['x_test']\n",
    "y_test = data_dict['y_test']\n",
    "x_cali = data_dict['x_cali'] \n",
    "labels_cali = data_dict['labels_cali']"
   ]
  },
  {
   "cell_type": "code",
   "execution_count": 6,
   "metadata": {},
   "outputs": [],
   "source": [
    "means = np.array([np.mean(x_train[np.where(labels_train == i)], axis=0) for i in range(10)])\n",
    "labels = np.arange(10)"
   ]
  },
  {
   "cell_type": "code",
   "execution_count": 7,
   "metadata": {},
   "outputs": [],
   "source": [
    "N = 4000"
   ]
  },
  {
   "cell_type": "code",
   "execution_count": 9,
   "metadata": {
    "scrolled": false
   },
   "outputs": [
    {
     "name": "stdout",
     "output_type": "stream",
     "text": [
      "Reading model from:\n",
      " ../results/MNIST/nb_train_1000_lr_0.001_bs_2_1/model.joblib\n"
     ]
    },
    {
     "name": "stderr",
     "output_type": "stream",
     "text": [
      "/home/zekrom/CMU/Fall2019/10715 - Advanced Introduction to Machine Learning/Project/venv/lib/python3.5/site-packages/cleverhans/utils_tf.py:294: UserWarning: batch_eval has moved to cleverhans.evaluation. batch_eval will be removed from utils_tf on or after 2019-03-09.\n",
      "  warnings.warn(\"batch_eval has moved to cleverhans.evaluation. \"\n",
      "/home/zekrom/CMU/Fall2019/10715 - Advanced Introduction to Machine Learning/Project/venv/lib/python3.5/site-packages/cleverhans/evaluation.py:376: UserWarning: `args` is deprecated and will be removed on or after 2019-03-09. Pass `batch_size` directly.\n",
      "  warnings.warn(\"`args` is deprecated and will be removed on or \"\n"
     ]
    },
    {
     "name": "stdout",
     "output_type": "stream",
     "text": [
      "Constructing the NearestNeighbor table\n",
      "Constructing the NearestNeighbor table\n",
      "Constructing the NearestNeighbor table\n",
      "Constructing the NearestNeighbor table\n",
      "dknn time 9.547266483306885\n",
      "Starting calibration.\n",
      "DkNN calibration complete.\n",
      "Predicting.\n",
      "Prediction complete.\n",
      "Constructing the NearestNeighborGeodesic table\n",
      "Constructing the NearestNeighborGeodesic table\n",
      "Constructing the NearestNeighborGeodesic table\n",
      "Constructing the NearestNeighborGeodesic table\n",
      "gdknn time 0.05647444725036621\n",
      "Starting calibration.\n",
      "DkNN calibration complete.\n",
      "Predicting.\n",
      "Prediction complete.\n"
     ]
    }
   ],
   "source": [
    "# Use Image Parameters.\n",
    "img_rows, img_cols, nchannels = x_train.shape[1:4]\n",
    "\n",
    "with mc.get_tensorflow_session() as sess:\n",
    "    with tf.variable_scope('dknn'):\n",
    "        model_dir = mc.get_model_dir_name()\n",
    "        model = mc.load_model(model_dir=model_dir)\n",
    "        \n",
    "        # Extract representations for the training and calibration data at each layer of interest to the DkNN.\n",
    "        layers = ['ReLU1', 'ReLU3', 'ReLU5', 'logits']\n",
    "\n",
    "        dknn = DkNNModel(\n",
    "            sess = sess,\n",
    "            model = model,\n",
    "            neighbors = mc.nb_neighbors,\n",
    "            proto_neighbors = mc.nb_proto_neighbors,\n",
    "            backend = mc.backend,\n",
    "            nb_classes=mc.nb_classes,\n",
    "            layers=layers,\n",
    "            train_data=x_train,\n",
    "            train_labels=labels_train,\n",
    "            method='euclidean',\n",
    "            scope='dknn')\n",
    "        start = time.time()\n",
    "        dknn.fit()\n",
    "        end = time.time()\n",
    "        print('dknn time', end-start)\n",
    "        dknn.calibrate(x_cali, labels_cali)\n",
    "        preds_knn, _, _ = dknn.predict(x_test)\n",
    "\n",
    "#         points = np.random.choice(x_train.shape[0], N) # to be used for the attack\n",
    "\n",
    "################# Random points #############################\n",
    "#         print('starting predicting random points')\n",
    "#         for i in range(len(points)-1):\n",
    "#             y, _, _ = dknn.predict(x_train[points[i]:points[i]+1])\n",
    "#             print('predicted point')\n",
    "#         print('finished predicting')\n",
    "#############################################################\n",
    "\n",
    "################ Attack #####################################\n",
    "#         def wrapper_dknn(x):\n",
    "#             return dknn.predict(np.array([x]))\n",
    "        \n",
    "#         deltas_k, norms_k = get_deltas(x_train[points],\n",
    "#                                        labels_train[points],\n",
    "#                                        means,\n",
    "#                                        labels,\n",
    "#                                        wrapper_dknn,\n",
    "#                                        eps=1e-2)\n",
    "#############################################################\n",
    "        \n",
    "        dknn_geod = DkNNModel(\n",
    "            sess = sess,\n",
    "            model = model,\n",
    "            neighbors = mc.nb_neighbors,\n",
    "            proto_neighbors = mc.nb_proto_neighbors,\n",
    "            backend = mc.backend,\n",
    "            nb_classes=mc.nb_classes,\n",
    "            layers=layers,\n",
    "            train_data=x_train,\n",
    "            train_labels=labels_train,\n",
    "            method='geodesic',\n",
    "            neighbors_table_path=mc.get_model_dir_name(),\n",
    "            scope='dknn')\n",
    "        start = time.time()\n",
    "        dknn_geod.fit()\n",
    "        end = time.time()\n",
    "        print('gdknn time', end-start)\n",
    "        dknn_geod.calibrate(x_cali, labels_cali)\n",
    "        preds_geod, _, _ = dknn_geod.predict(x_test)\n",
    "\n",
    "##################### Attack ################################\n",
    "#         def wrapper_geod(x):\n",
    "#             return dknn_geod.predict(np.array([x]))\n",
    "        \n",
    "#         deltas_g, norms_g = get_deltas(x_train[points],\n",
    "#                                        labels_train[points],\n",
    "#                                        means,\n",
    "#                                        labels,\n",
    "#                                        wrapper_geod,\n",
    "#                                        eps=1e-2)\n",
    "#############################################################\n",
    "\n",
    "############## Plots ########################################\n",
    "#         fig, axes = plt.subplots(1, 2)\n",
    "#         ax0, ax1 = axes.flatten()\n",
    "#         ax0.hist([deltas_k, deltas_g], density=True, histtype='step', cumulative=-1, label=['deltas_dknn', 'deltas_geo'])\n",
    "#         ax0.set_title('deltas')\n",
    "#         ax0.legend(prop={'size': 10})\n",
    "#         ax1.hist([norms_k, norms_g], density=True, histtype='step', cumulative=-1, label=['norms_dknn', 'norms_geo'])\n",
    "#         ax1.set_title('infinity norms')\n",
    "#         ax1.legend(prop={'size': 10})\n",
    "#         plt.show()\n",
    "#         print('deltas_k', deltas_k)\n",
    "#         print('deltas_g', deltas_g)\n",
    "#         print('norms_k', norms_k)\n",
    "#         print('norms_g', norms_g)  "
   ]
  },
  {
   "cell_type": "code",
   "execution_count": 10,
   "metadata": {},
   "outputs": [
    {
     "name": "stdout",
     "output_type": "stream",
     "text": [
      "0.86\n",
      "0.916\n"
     ]
    }
   ],
   "source": [
    "print((preds_knn==np.argmax(y_test,axis=1)).mean())\n",
    "print((preds_geod==np.argmax(y_test,axis=1)).mean())"
   ]
  }
 ],
 "metadata": {
  "kernelspec": {
   "display_name": "Python 3",
   "language": "python",
   "name": "python3"
  },
  "language_info": {
   "codemirror_mode": {
    "name": "ipython",
    "version": 3
   },
   "file_extension": ".py",
   "mimetype": "text/x-python",
   "name": "python",
   "nbconvert_exporter": "python",
   "pygments_lexer": "ipython3",
   "version": "3.5.5"
  }
 },
 "nbformat": 4,
 "nbformat_minor": 2
}
