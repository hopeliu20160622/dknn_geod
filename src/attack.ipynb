{
 "cells": [
  {
   "cell_type": "code",
   "execution_count": 16,
   "metadata": {},
   "outputs": [],
   "source": [
    "import numpy as np\n",
    "import tensorflow as tf\n",
    "import time\n",
    "from matplotlib import pyplot as plt\n",
    "import seaborn as sns\n",
    "sns.set()\n",
    "sns.set_style('whitegrid')\n",
    "\n",
    "from cleverhans.utils_tf import batch_eval\n",
    "\n",
    "from utils_config import ModelConfig\n",
    "from utils_experiment import get_data_dict, train_model\n",
    "from utils_attacks import get_deltas\n",
    "from dknn import DkNNModel"
   ]
  },
  {
   "cell_type": "code",
   "execution_count": 9,
   "metadata": {},
   "outputs": [],
   "source": [
    "plt.rcParams[\"figure.figsize\"] = (10, 10)"
   ]
  },
  {
   "cell_type": "code",
   "execution_count": null,
   "metadata": {},
   "outputs": [],
   "source": [
    "mc = ModelConfig(config_file='../configs/config_mnist.yaml',\n",
    "                 root_dir='../results/')"
   ]
  },
  {
   "cell_type": "code",
   "execution_count": null,
   "metadata": {},
   "outputs": [],
   "source": [
    "#train_model(mc)"
   ]
  },
  {
   "cell_type": "code",
   "execution_count": null,
   "metadata": {},
   "outputs": [],
   "source": [
    "data_dict = get_data_dict(mc)\n",
    "\n",
    "# parse data_dict\n",
    "x_train = data_dict['x_train'] \n",
    "labels_train = data_dict['labels_train']\n",
    "x_test = data_dict['x_test']\n",
    "y_test = data_dict['y_test']\n",
    "x_cali = data_dict['x_cali'] \n",
    "labels_cali = data_dict['labels_cali']"
   ]
  },
  {
   "cell_type": "code",
   "execution_count": null,
   "metadata": {},
   "outputs": [],
   "source": [
    "means = np.array([np.mean(x_train[np.where(labels_train == i)], axis=0) for i in range(10)])\n",
    "labels = np.arange(10)"
   ]
  },
  {
   "cell_type": "code",
   "execution_count": null,
   "metadata": {},
   "outputs": [],
   "source": [
    "#N = 4000\n",
    "#points = np.random.choice(x_train.shape[0], N) # to be used for the attack"
   ]
  },
  {
   "cell_type": "code",
   "execution_count": null,
   "metadata": {
    "scrolled": false
   },
   "outputs": [],
   "source": [
    "# Use Image Parameters.\n",
    "img_rows, img_cols, nchannels = x_train.shape[1:4]\n",
    "\n",
    "with mc.get_tensorflow_session() as sess:\n",
    "    with tf.variable_scope('dknn'):\n",
    "        model_dir = mc.get_model_dir_name()\n",
    "        model = mc.load_model(model_dir=model_dir)\n",
    "        \n",
    "        # Extract representations for the training and calibration data at each layer of interest to the DkNN.\n",
    "        layers = ['ReLU1', 'ReLU3', 'ReLU5', 'logits']\n",
    "\n",
    "        dknn = DkNNModel(\n",
    "            sess = sess,\n",
    "            model = model,\n",
    "            neighbors = mc.nb_neighbors,\n",
    "            proto_neighbors = mc.nb_proto_neighbors,\n",
    "            img_rows=mc.img_rows,\n",
    "            img_cols=mc.img_cols,\n",
    "            nchannels=mc.nchannels,\n",
    "            nb_classes=mc.nb_classes,\n",
    "            layers=layers,\n",
    "            train_data=x_train,\n",
    "            train_labels=labels_train,\n",
    "            method='euclidean',\n",
    "            neighbors_table_path=mc.get_model_dir_name(),\n",
    "            scope='dknn')\n",
    "        start = time.time()\n",
    "        dknn.fit()\n",
    "        end = time.time()\n",
    "        print('dknn time', end-start)\n",
    "        dknn.calibrate(x_cali, labels_cali)\n",
    "        preds_knn, _, _ = dknn.predict(x_test)\n",
    "        print((preds_knn==np.argmax(y_test,axis=1)).mean())\n",
    "\n",
    "################ Attack #####################################\n",
    "        def wrapper_dknn(x):\n",
    "            return dknn.predict(np.array([x]))\n",
    "        \n",
    "        deltas_k, norms_k = get_deltas(x_train,\n",
    "                                       labels_train,\n",
    "                                       means,\n",
    "                                       labels,\n",
    "                                       wrapper_dknn,\n",
    "                                       eps=1e-2)\n",
    "#############################################################\n",
    "        \n",
    "        dknn_geod = DkNNModel(\n",
    "            sess = sess,\n",
    "            model = model,\n",
    "            neighbors = mc.nb_neighbors,\n",
    "            proto_neighbors = mc.nb_proto_neighbors,\n",
    "            img_rows=mc.img_rows,\n",
    "            img_cols=mc.img_cols,\n",
    "            nchannels=mc.nchannels,\n",
    "            nb_classes=mc.nb_classes,\n",
    "            layers=layers,\n",
    "            train_data=x_train,\n",
    "            train_labels=labels_train,\n",
    "            method='geodesic',\n",
    "            neighbors_table_path=mc.get_model_dir_name(),\n",
    "            scope='dknn')\n",
    "        start = time.time()\n",
    "        dknn_geod.fit()\n",
    "        end = time.time()\n",
    "        print('gdknn time', end-start)\n",
    "        dknn_geod.calibrate(x_cali, labels_cali)\n",
    "        preds_geod, _, _ = dknn_geod.predict(x_test)\n",
    "        print((preds_geod==np.argmax(y_test,axis=1)).mean())\n",
    "\n",
    "##################### Attack ################################\n",
    "        def wrapper_geod(x):\n",
    "            return dknn_geod.predict(np.array([x]))\n",
    "        \n",
    "        deltas_g, norms_g = get_deltas(x_train,\n",
    "                                       labels_train,\n",
    "                                       means,\n",
    "                                       labels,\n",
    "                                       wrapper_geod,\n",
    "                                       eps=1e-2)\n",
    "############################################################# "
   ]
  },
  {
   "cell_type": "code",
   "execution_count": 1,
   "metadata": {},
   "outputs": [],
   "source": [
    "path = \"../results/attacks/deltas_norms_nonarray.pkl\""
   ]
  },
  {
   "cell_type": "code",
   "execution_count": null,
   "metadata": {},
   "outputs": [],
   "source": [
    "# # Save\n",
    "# import pandas as pd\n",
    "# df = pd.DataFrame({\"deltas_k\": deltas_k,\n",
    "#                    \"deltas_g\": deltas_g,\n",
    "#                \"norms_k\": norms_k,\n",
    "#                    \"norms_g\": norms_g})\n",
    "# df.to_pickle(path)"
   ]
  },
  {
   "cell_type": "code",
   "execution_count": 12,
   "metadata": {},
   "outputs": [],
   "source": [
    "# Load\n",
    "import pandas as pd\n",
    "import numpy as np\n",
    "from matplotlib import pyplot as plt\n",
    "import seaborn as sns\n",
    "sns.set()\n",
    "sns.set_style('whitegrid')\n",
    "df = pd.read_pickle(path)\n",
    "deltas_k = df[\"deltas_k\"]\n",
    "deltas_g = df[\"deltas_g\"]\n",
    "norms_k = df[\"norms_k\"]\n",
    "norms_g = df[\"norms_g\"]"
   ]
  },
  {
   "cell_type": "code",
   "execution_count": 20,
   "metadata": {},
   "outputs": [],
   "source": [
    "def cumulative_plot(xlist, color, linestyle='solid', label=None, bins=40, reverse=True):\n",
    "    values, base = np.histogram(xlist, bins=bins)\n",
    "    cumulative = np.cumsum(values)\n",
    "    plt.plot(base[:-1], (len(xlist) - cumulative)/xlist.shape[0], label=label, color=color, linestyle=linestyle)"
   ]
  },
  {
   "cell_type": "code",
   "execution_count": 21,
   "metadata": {},
   "outputs": [
    {
     "data": {
      "image/png": "[encoded data removed]",
      "text/plain": [
       "<Figure size 720x720 with 1 Axes>"
      ]
     },
     "metadata": {},
     "output_type": "display_data"
    }
   ],
   "source": [
    "cumulative_plot(deltas_k, color='red', linestyle='dashed', label='dknn')\n",
    "cumulative_plot(deltas_g, color='blue', label='gdknn')\n",
    "plt.title('Reverse cumulative plot, MNIST, N=10,000')\n",
    "plt.xlabel('Attack Delta')\n",
    "plt.ylabel('Accuracy')\n",
    "plt.legend()\n",
    "plt.savefig('../results/attacks/deltas.png')\n",
    "plt.show()"
   ]
  },
  {
   "cell_type": "code",
   "execution_count": 23,
   "metadata": {},
   "outputs": [
    {
     "ename": "SyntaxError",
     "evalue": "invalid syntax (<ipython-input-23-382ebba6f121>, line 2)",
     "output_type": "error",
     "traceback": [
      "\u001b[0;36m  File \u001b[0;32m\"<ipython-input-23-382ebba6f121>\"\u001b[0;36m, line \u001b[0;32m2\u001b[0m\n\u001b[0;31m    cumulative_plot(norms_g, color='bluel, abel='gdknn')\u001b[0m\n\u001b[0m                                                     ^\u001b[0m\n\u001b[0;31mSyntaxError\u001b[0m\u001b[0;31m:\u001b[0m invalid syntax\n"
     ]
    }
   ],
   "source": [
    "cumulative_plot(norms_k, color='red', linestyle='dashed', label='dknn')\n",
    "cumulative_plot(norms_g, color='bluel, label='gdknn')\n",
    "plt.title('Reverse cumulative plot, MNIST, N=10,000')\n",
    "plt.xlabel('Attack vector infinity norm')\n",
    "plt.ylabel('Accuracy')\n",
    "plt.legend()\n",
    "plt.savefig('../results/attacks/norms.png')\n",
    "plt.show()"
   ]
  }
 ],
 "metadata": {
  "kernelspec": {
   "display_name": "Python 3",
   "language": "python",
   "name": "python3"
  },
  "language_info": {
   "codemirror_mode": {
    "name": "ipython",
    "version": 3
   },
   "file_extension": ".py",
   "mimetype": "text/x-python",
   "name": "python",
   "nbconvert_exporter": "python",
   "pygments_lexer": "ipython3",
   "version": "3.5.5"
  }
 },
 "nbformat": 4,
 "nbformat_minor": 2
}
