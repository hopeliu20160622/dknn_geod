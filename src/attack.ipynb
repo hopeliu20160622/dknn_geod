{
 "cells": [
  {
   "cell_type": "code",
   "execution_count": 1,
   "metadata": {},
   "outputs": [
    {
     "name": "stdout",
     "output_type": "stream",
     "text": [
      "WARNING:tensorflow:From /home/zekrom/CMU/Fall2019/10715 - Advanced Introduction to Machine Learning/Project/venv/lib/python3.5/site-packages/cleverhans/utils_tf.py:341: The name tf.GraphKeys is deprecated. Please use tf.compat.v1.GraphKeys instead.\n",
      "\n"
     ]
    }
   ],
   "source": [
    "import numpy as np\n",
    "import tensorflow as tf\n",
    "import time\n",
    "from matplotlib import pyplot as plt\n",
    "\n",
    "from cleverhans.utils_tf import batch_eval\n",
    "\n",
    "from utils_config import ModelConfig\n",
    "from utils_experiment import get_data_dict, train_model\n",
    "from utils_attacks import get_deltas\n",
    "from dknn import DkNNModel"
   ]
  },
  {
   "cell_type": "code",
   "execution_count": 45,
   "metadata": {},
   "outputs": [],
   "source": [
    "plt.rcParams[\"figure.figsize\"] = (10, 5)"
   ]
  },
  {
   "cell_type": "code",
   "execution_count": 3,
   "metadata": {},
   "outputs": [],
   "source": [
    "mc = ModelConfig(config_file='../configs/config_mnist.yaml',\n",
    "                 root_dir='../results/')"
   ]
  },
  {
   "cell_type": "code",
   "execution_count": null,
   "metadata": {},
   "outputs": [],
   "source": [
    "#train_model(mc)"
   ]
  },
  {
   "cell_type": "code",
   "execution_count": 5,
   "metadata": {},
   "outputs": [],
   "source": [
    "data_dict = get_data_dict(mc)\n",
    "\n",
    "# parse data_dict\n",
    "x_train = data_dict['x_train'] \n",
    "labels_train = data_dict['labels_train']\n",
    "x_test = data_dict['x_test']\n",
    "y_test = data_dict['y_test']\n",
    "x_cali = data_dict['x_cali'] \n",
    "labels_cali = data_dict['labels_cali']"
   ]
  },
  {
   "cell_type": "code",
   "execution_count": 6,
   "metadata": {},
   "outputs": [],
   "source": [
    "means = np.array([np.mean(x_train[np.where(labels_train == i)], axis=0) for i in range(10)])\n",
    "labels = np.arange(10)"
   ]
  },
  {
   "cell_type": "code",
   "execution_count": null,
   "metadata": {},
   "outputs": [],
   "source": [
    "#N = 4000\n",
    "#points = np.random.choice(x_train.shape[0], N) # to be used for the attack"
   ]
  },
  {
   "cell_type": "code",
   "execution_count": 7,
   "metadata": {
    "scrolled": false
   },
   "outputs": [
    {
     "name": "stdout",
     "output_type": "stream",
     "text": [
      "Loading model from:\n",
      " ../results/MNIST/nb_train_10000_lr_0.001_bs_2_1/model.joblib\n",
      "\n",
      "Constructing the NearestNeighbor table layer ReLU1\n",
      "Constructing the NearestNeighbor table layer ReLU3\n",
      "Constructing the NearestNeighbor table layer ReLU5\n",
      "Constructing the NearestNeighbor table layer logits\n",
      "dknn time 192.87483739852905\n",
      "Starting calibration.\n",
      "Completed calibration.\n",
      "\n"
     ]
    },
    {
     "name": "stderr",
     "output_type": "stream",
     "text": [
      "\r",
      "  0%|          | 0/10000 [00:00<?, ?it/s]"
     ]
    },
    {
     "name": "stdout",
     "output_type": "stream",
     "text": [
      "0.9672\n"
     ]
    },
    {
     "name": "stderr",
     "output_type": "stream",
     "text": [
      "100%|██████████| 10000/10000 [49:58<00:00,  3.33it/s]\n"
     ]
    },
    {
     "name": "stdout",
     "output_type": "stream",
     "text": [
      "Constructing the GeodesicNearestNeighbor table layer ReLU1\n",
      "Constructing the GeodesicNearestNeighbor table layer ReLU3\n",
      "Constructing the GeodesicNearestNeighbor table layer ReLU5\n",
      "Constructing the GeodesicNearestNeighbor table layer logits\n",
      "gdknn time 256.6512632369995\n",
      "Starting calibration.\n",
      "Completed calibration.\n",
      "\n"
     ]
    },
    {
     "name": "stderr",
     "output_type": "stream",
     "text": [
      "\r",
      "  0%|          | 0/10000 [00:00<?, ?it/s]"
     ]
    },
    {
     "name": "stdout",
     "output_type": "stream",
     "text": [
      "0.9648\n"
     ]
    },
    {
     "name": "stderr",
     "output_type": "stream",
     "text": [
      "100%|██████████| 10000/10000 [53:12<00:00,  3.13it/s]\n"
     ]
    }
   ],
   "source": [
    "# Use Image Parameters.\n",
    "img_rows, img_cols, nchannels = x_train.shape[1:4]\n",
    "\n",
    "with mc.get_tensorflow_session() as sess:\n",
    "    with tf.variable_scope('dknn'):\n",
    "        model_dir = mc.get_model_dir_name()\n",
    "        model = mc.load_model(model_dir=model_dir)\n",
    "        \n",
    "        # Extract representations for the training and calibration data at each layer of interest to the DkNN.\n",
    "        layers = ['ReLU1', 'ReLU3', 'ReLU5', 'logits']\n",
    "\n",
    "        dknn = DkNNModel(\n",
    "            sess = sess,\n",
    "            model = model,\n",
    "            neighbors = mc.nb_neighbors,\n",
    "            proto_neighbors = mc.nb_proto_neighbors,\n",
    "            img_rows=mc.img_rows,\n",
    "            img_cols=mc.img_cols,\n",
    "            nchannels=mc.nchannels,\n",
    "            nb_classes=mc.nb_classes,\n",
    "            layers=layers,\n",
    "            train_data=x_train,\n",
    "            train_labels=labels_train,\n",
    "            method='euclidean',\n",
    "            neighbors_table_path=mc.get_model_dir_name(),\n",
    "            scope='dknn')\n",
    "        start = time.time()\n",
    "        dknn.fit()\n",
    "        end = time.time()\n",
    "        print('dknn time', end-start)\n",
    "        dknn.calibrate(x_cali, labels_cali)\n",
    "        preds_knn, _, _ = dknn.predict(x_test)\n",
    "        print((preds_knn==np.argmax(y_test,axis=1)).mean())\n",
    "\n",
    "################ Attack #####################################\n",
    "        def wrapper_dknn(x):\n",
    "            return dknn.predict(np.array([x]))\n",
    "        \n",
    "        deltas_k, norms_k = get_deltas(x_train,\n",
    "                                       labels_train,\n",
    "                                       means,\n",
    "                                       labels,\n",
    "                                       wrapper_dknn,\n",
    "                                       eps=1e-2)\n",
    "#############################################################\n",
    "        \n",
    "        dknn_geod = DkNNModel(\n",
    "            sess = sess,\n",
    "            model = model,\n",
    "            neighbors = mc.nb_neighbors,\n",
    "            proto_neighbors = mc.nb_proto_neighbors,\n",
    "            img_rows=mc.img_rows,\n",
    "            img_cols=mc.img_cols,\n",
    "            nchannels=mc.nchannels,\n",
    "            nb_classes=mc.nb_classes,\n",
    "            layers=layers,\n",
    "            train_data=x_train,\n",
    "            train_labels=labels_train,\n",
    "            method='geodesic',\n",
    "            neighbors_table_path=mc.get_model_dir_name(),\n",
    "            scope='dknn')\n",
    "        start = time.time()\n",
    "        dknn_geod.fit()\n",
    "        end = time.time()\n",
    "        print('gdknn time', end-start)\n",
    "        dknn_geod.calibrate(x_cali, labels_cali)\n",
    "        preds_geod, _, _ = dknn_geod.predict(x_test)\n",
    "        print((preds_geod==np.argmax(y_test,axis=1)).mean())\n",
    "\n",
    "##################### Attack ################################\n",
    "        def wrapper_geod(x):\n",
    "            return dknn_geod.predict(np.array([x]))\n",
    "        \n",
    "        deltas_g, norms_g = get_deltas(x_train,\n",
    "                                       labels_train,\n",
    "                                       means,\n",
    "                                       labels,\n",
    "                                       wrapper_geod,\n",
    "                                       eps=1e-2)\n",
    "############################################################# "
   ]
  },
  {
   "cell_type": "code",
   "execution_count": 35,
   "metadata": {},
   "outputs": [],
   "source": [
    "def cumulative_plot(xlist, label=None, bins=40, reverse=True):\n",
    "    values, base = np.histogram(xlist, bins=bins)\n",
    "    cumulative = np.cumsum(values)\n",
    "    plt.plot(base[:-1], (len(xlist) - cumulative)/xlist.shape[0], label=label)"
   ]
  },
  {
   "cell_type": "code",
   "execution_count": 52,
   "metadata": {},
   "outputs": [
    {
     "data": {
      "image/png": "[encoded data removed]",
      "text/plain": [
       "<Figure size 720x360 with 1 Axes>"
      ]
     },
     "metadata": {
      "needs_background": "light"
     },
     "output_type": "display_data"
    }
   ],
   "source": [
    "cumulative_plot(deltas_k, label='dknn')\n",
    "cumulative_plot(deltas_g, label='gdknn')\n",
    "plt.title('Reverse cumulative plot, MNIST, N=10,000')\n",
    "plt.xlabel('Attack Delta')\n",
    "plt.ylabel('Accuracy')\n",
    "plt.legend()\n",
    "plt.savefig('../results/attacks/deltas.png')\n",
    "plt.show()"
   ]
  },
  {
   "cell_type": "code",
   "execution_count": 51,
   "metadata": {},
   "outputs": [
    {
     "data": {
      "image/png": "[encoded data removed]",
      "text/plain": [
       "<Figure size 720x360 with 1 Axes>"
      ]
     },
     "metadata": {
      "needs_background": "light"
     },
     "output_type": "display_data"
    }
   ],
   "source": [
    "cumulative_plot(norms_k, label='dknn')\n",
    "cumulative_plot(norms_g, label='gdknn')\n",
    "plt.title('Reverse cumulative plot, MNIST, N=10,000')\n",
    "plt.xlabel('Attack vector infinity norm')\n",
    "plt.ylabel('Accuracy')\n",
    "plt.legend()\n",
    "plt.savefig('../results/attacks/norms.png')\n",
    "plt.show()"
   ]
  },
  {
   "cell_type": "code",
   "execution_count": 38,
   "metadata": {},
   "outputs": [],
   "source": [
    "path = \"../results/attacks/deltas_norms.pkl\""
   ]
  },
  {
   "cell_type": "code",
   "execution_count": 19,
   "metadata": {},
   "outputs": [],
   "source": [
    "# Save\n",
    "import pandas as pd\n",
    "df = pd.DataFrame({\"deltas_k\": [deltas_k],\n",
    "                   \"deltas_g\": [deltas_g],\n",
    "                   \"norms_k\": [norms_k],\n",
    "                   \"norms_g\": [norms_g]})\n",
    "df.to_pickle(path)"
   ]
  },
  {
   "cell_type": "code",
   "execution_count": 50,
   "metadata": {},
   "outputs": [],
   "source": [
    "# Load\n",
    "import pandas as pd\n",
    "df = pd.read_pickle(path)\n",
    "deltas_k = df[\"deltas_k\"][0]\n",
    "deltas_g = df[\"deltas_g\"][0]\n",
    "norms_k = df[\"norms_k\"][0]\n",
    "norms_g = df[\"norms_g\"][0]"
   ]
  }
 ],
 "metadata": {
  "kernelspec": {
   "display_name": "Python 3",
   "language": "python",
   "name": "python3"
  },
  "language_info": {
   "codemirror_mode": {
    "name": "ipython",
    "version": 3
   },
   "file_extension": ".py",
   "mimetype": "text/x-python",
   "name": "python",
   "nbconvert_exporter": "python",
   "pygments_lexer": "ipython3",
   "version": "3.5.5"
  }
 },
 "nbformat": 4,
 "nbformat_minor": 2
}
