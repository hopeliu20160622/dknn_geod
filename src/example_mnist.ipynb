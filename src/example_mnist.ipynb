{
 "cells": [
  {
   "cell_type": "code",
   "execution_count": null,
   "metadata": {},
   "outputs": [],
   "source": [
    "from __future__ import absolute_import\n",
    "from __future__ import division\n",
    "from __future__ import print_function\n",
    "from __future__ import unicode_literals\n",
    "\n",
    "import copy\n",
    "import os\n",
    "from bisect import bisect_left\n",
    "import matplotlib\n",
    "import matplotlib.pyplot as plt\n",
    "import numpy as np\n",
    "from six.moves import xrange\n",
    "import enum\n",
    "import tensorflow as tf\n",
    "\n",
    "from cleverhans.attacks import FastGradientMethod\n",
    "from cleverhans.loss import CrossEntropy\n",
    "from cleverhans.dataset import MNIST, CIFAR10\n",
    "from cleverhans.model import Model\n",
    "#from cleverhans.picklable_model import MLP, Conv2D, ReLU, Flatten, Linear, Softmax\n",
    "from cleverhans.train import train\n",
    "from cleverhans.utils_tf import batch_eval, model_eval\n",
    "from cleverhans import serial\n",
    "from pathlib import Path\n",
    "\n",
    "from dknn import DkNNModel, get_tensorflow_session, NearestNeighbor\n",
    "from utils_config import get_config_parameters, dataset_loader, get_model\n",
    "\n",
    "from utils_kernel import euclidean_kernel, hard_geodesics_euclidean_kernel\n",
    "from utils_visualization import plot_kernel"
   ]
  },
  {
   "cell_type": "code",
   "execution_count": null,
   "metadata": {},
   "outputs": [],
   "source": [
    "import time"
   ]
  },
  {
   "cell_type": "code",
   "execution_count": null,
   "metadata": {},
   "outputs": [],
   "source": [
    "config = get_config_parameters('../configs/config_mnist.yaml')"
   ]
  },
  {
   "cell_type": "code",
   "execution_count": null,
   "metadata": {},
   "outputs": [],
   "source": [
    "dataset = dataset_loader(config)\n",
    "x_train, y_train = dataset.get_set('train')\n",
    "x_test, y_test = dataset.get_set('test')\n",
    "\n",
    "# Use Image Parameters.\n",
    "img_rows, img_cols, nchannels = x_train.shape[1:4]\n",
    "nb_classes = y_train.shape[1]\n",
    "\n",
    "# Use a holdout of the test set to simulate calibration data for the DkNN.\n",
    "train_data = x_train\n",
    "train_labels = np.argmax(y_train, axis=1)\n",
    "cali_data = x_test[:config['nb_cali']]\n",
    "y_cali = y_test[:config['nb_cali']]\n",
    "cali_labels = np.argmax(y_cali, axis=1)\n",
    "test_data = x_test[config['nb_cali']:]\n",
    "y_test = y_test[config['nb_cali']:]\n",
    "x_test = x_test[config['nb_cali']:]"
   ]
  },
  {
   "cell_type": "code",
   "execution_count": null,
   "metadata": {},
   "outputs": [],
   "source": [
    "with get_tensorflow_session(config) as sess:\n",
    "    with tf.variable_scope('dknn'):\n",
    "        # Define input TF placeholder.\n",
    "        x = tf.placeholder(tf.float32, shape=(\n",
    "          None, img_rows, img_cols, nchannels))\n",
    "        y = tf.placeholder(tf.float32, shape=(None, nb_classes))\n",
    "\n",
    "        # Define a model.\n",
    "        model = get_model(config)\n",
    "        preds = model.get_logits(x)\n",
    "        loss = CrossEntropy(model, smoothing=0.)\n",
    "\n",
    "        # Define the test set accuracy evaluation.\n",
    "        def evaluate():\n",
    "            acc = model_eval(sess, x, y, preds, x_test, y_test,\n",
    "                             args={'batch_size': config['batch_size']})\n",
    "            print('Test accuracy on test examples: %0.4f' % acc)\n",
    "\n",
    "        # Train the model\n",
    "        train_params = {'nb_epochs': config['max_epochs'],\n",
    "                      'batch_size': config['batch_size'], 'learning_rate': config['learning_rate']}\n",
    "\n",
    "        data_filepath = \"model.joblib\"\n",
    "        path = Path(data_filepath)\n",
    "\n",
    "        if path.is_file():\n",
    "            model = serial.load(data_filepath)\n",
    "        else:\n",
    "            train(sess, loss, x_train, y_train, evaluate=evaluate,\n",
    "              args=train_params, var_list=model.get_params())\n",
    "            serial.save(\"model.joblib\", model)\n",
    "\n",
    "          # Define callable that returns a dictionary of all activations for a dataset\n",
    "        def get_activations(data):\n",
    "            data_activations = {}\n",
    "            for layer in layers:\n",
    "                layer_sym = tf.layers.flatten(model.get_layer(x, layer))\n",
    "                data_activations[layer] = batch_eval(sess, [x], [layer_sym], [data],\n",
    "                                                   args={'batch_size': config['batch_size']})[0]\n",
    "            return data_activations\n",
    "\n",
    "        # Extract representations for the training and calibration data at each layer of interest to the DkNN.\n",
    "        layers = ['ReLU1', 'ReLU3', 'ReLU5', 'logits']\n",
    "\n",
    "        #Euclidean DKNN\n",
    "        dknn = DkNNModel(\n",
    "        neighbors = config['nb_neighbors'],\n",
    "        proto_neighbors = config['nb_proto_neighbors'],\n",
    "        layers=layers,\n",
    "        get_activations=get_activations,\n",
    "        train_data=train_data,\n",
    "        train_labels=train_labels,\n",
    "        nb_classes=nb_classes,\n",
    "        backend = config['backend'],\n",
    "        method='euclidean',\n",
    "        scope='dknn')\n",
    "        \n",
    "        dknn.calibrate(cali_data, cali_labels)\n",
    "        preds_knn, confs_knn, creds_knn = dknn.predict(x_test)\n",
    "\n",
    "        start = time.time()\n",
    "        # Geodesic DKNN\n",
    "        dknn_geod = DkNNModel(\n",
    "        neighbors = config['nb_neighbors'],\n",
    "        proto_neighbors = config['nb_proto_neighbors'],\n",
    "        layers=layers,\n",
    "        get_activations=get_activations,\n",
    "        train_data=train_data,\n",
    "        train_labels=train_labels,\n",
    "        nb_classes=nb_classes,\n",
    "        backend = config['backend'],\n",
    "        method='geodesic',\n",
    "        scope='dknn')\n",
    "        end = time.time()\n",
    "        print(\"Time: \" + str(end-start))\n",
    "        dknn_geod.calibrate(cali_data, cali_labels)\n",
    "        \n",
    "        preds_geod, confs_geod, creds_geod = dknn_geod.predict(x_test)"
   ]
  },
  {
   "cell_type": "code",
   "execution_count": null,
   "metadata": {},
   "outputs": [],
   "source": [
    "print((preds_knn==np.argmax(y_test,axis=1)).mean())\n",
    "print((preds_geod==np.argmax(y_test,axis=1)).mean())"
   ]
  },
  {
   "cell_type": "code",
   "execution_count": null,
   "metadata": {},
   "outputs": [],
   "source": [
    "euclidean_matrix = euclidean_kernel(dknn.train_activations['ReLU1'])\n",
    "max_distance = np.max(euclidean_matrix)+1\n",
    "euclidean_matrix[euclidean_matrix == 0]=max_distance\n",
    "plot_kernel(euclidean_matrix)"
   ]
  },
  {
   "cell_type": "code",
   "execution_count": null,
   "metadata": {},
   "outputs": [],
   "source": [
    "geodesic_euclidean_matrix = hard_geodesics_euclidean_kernel(dknn_geod.train_activations['ReLU1'], 5)\n",
    "max_distance = np.max(geodesic_euclidean_matrix)+1\n",
    "geodesic_euclidean_matrix[geodesic_euclidean_matrix == 0]=max_distance\n",
    "plot_kernel(geodesic_euclidean_matrix)"
   ]
  },
  {
   "cell_type": "code",
   "execution_count": null,
   "metadata": {},
   "outputs": [],
   "source": [
    "ks = range(1,70)\n",
    "same_class_euclidean = np.zeros(len(ks))\n",
    "same_class_geodesic = np.zeros(len(ks))\n",
    "for j,k in enumerate(ks):\n",
    "    acum_euc = 0\n",
    "    acum_geo = 0\n",
    "    for i in range(1000):\n",
    "        euclidean_neighbors_idx = np.argpartition(euclidean_matrix[i,:],k)[:k]\n",
    "        acum_euc += np.mean(train_labels[i]==train_labels[euclidean_neighbors_idx])\n",
    "\n",
    "        #geodesic_neighbors_idx = np.argpartition(geodesic_euclidean_matrix[i,:],k)[:k]\n",
    "        #acum_geo += np.mean(train_labels[i]==train_labels[geodesic_neighbors_idx])\n",
    "        acum_geo += np.mean(train_labels[i]==train_labels[dknn_geod.query_objects['ReLU1'].train_neighbor_index[i,:k]])\n",
    "    same_class_euclidean[j] = acum_euc/1000\n",
    "    same_class_geodesic[j] = acum_geo/1000\n",
    "    #print(j)"
   ]
  },
  {
   "cell_type": "code",
   "execution_count": null,
   "metadata": {},
   "outputs": [],
   "source": [
    "plt.plot(range(1,70),same_class_euclidean, label='Euclidean', linestyle='--')\n",
    "plt.plot(range(1,70),same_class_geodesic, label='Geodesic')\n",
    "plt.legend()\n",
    "plt.grid()\n",
    "plt.xlabel('Number of Neighbors')\n",
    "plt.ylabel('% of NN with same class')\n",
    "plt.savefig('../results/comformity_comparison_relu1.png')"
   ]
  }
 ],
 "metadata": {
  "kernelspec": {
   "display_name": "Python 3",
   "language": "python",
   "name": "python3"
  },
  "language_info": {
   "codemirror_mode": {
    "name": "ipython",
    "version": 3
   },
   "file_extension": ".py",
   "mimetype": "text/x-python",
   "name": "python",
   "nbconvert_exporter": "python",
   "pygments_lexer": "ipython3",
   "version": "3.6.9"
  }
 },
 "nbformat": 4,
 "nbformat_minor": 4
}
