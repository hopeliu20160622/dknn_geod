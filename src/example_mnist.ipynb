{
 "cells": [
  {
   "cell_type": "code",
   "execution_count": 1,
   "metadata": {},
   "outputs": [],
   "source": [
    "from __future__ import absolute_import\n",
    "from __future__ import division\n",
    "from __future__ import print_function\n",
    "from __future__ import unicode_literals\n",
    "\n",
    "import os\n",
    "import time\n",
    "import numpy as np\n",
    "\n",
    "import tensorflow as tf\n",
    "from tensorflow.python.util import deprecation\n",
    "deprecation._PRINT_DEPRECATION_WARNINGS = False\n",
    "tf.compat.v1.logging.set_verbosity(tf.compat.v1.logging.ERROR)\n",
    "\n",
    "from cleverhans.utils_tf import batch_eval\n",
    "\n",
    "from utils_config import ModelConfig, dataset_loader\n",
    "from utils_experiment import get_data_dict\n",
    "from utils_experiment import train_model\n",
    "from utils_experiment import hyperparameter_selection\n",
    "from dknn import DkNNModel, NearestNeighbor\n"
   ]
  },
  {
   "cell_type": "code",
   "execution_count": 2,
   "metadata": {},
   "outputs": [],
   "source": [
    "mc = ModelConfig(config_file='../configs/config_mnist.yaml',\n",
    "                 root_dir='../results/')"
   ]
  },
  {
   "cell_type": "code",
   "execution_count": null,
   "metadata": {},
   "outputs": [],
   "source": [
    "#train_model(mc)"
   ]
  },
  {
   "cell_type": "code",
   "execution_count": 3,
   "metadata": {},
   "outputs": [
    {
     "name": "stdout",
     "output_type": "stream",
     "text": [
      "Loading model from:\n",
      " ../results/MNIST/nb_train_1000_lr_0.001_bs_2_1/model.joblib\n",
      "\n",
      "Constructing the NearestNeighbor table layer ReLU1\n",
      "Constructing the NearestNeighbor table layer ReLU3\n",
      "Constructing the NearestNeighbor table layer ReLU5\n",
      "Constructing the NearestNeighbor table layer logits\n",
      "13.10959267616272\n",
      "Starting calibration.\n",
      "Completed calibration.\n",
      "\n",
      "Constructing the GeodesicNearestNeighbor table layer ReLU1\n",
      "Constructing the GeodesicNearestNeighbor table layer ReLU3\n",
      "Constructing the GeodesicNearestNeighbor table layer ReLU5\n",
      "Constructing the GeodesicNearestNeighbor table layer logits\n",
      "12.761942863464355\n",
      "Starting calibration.\n",
      "Completed calibration.\n",
      "\n"
     ]
    }
   ],
   "source": [
    "# reand and wrangle data\n",
    "data_dict = get_data_dict(mc)\n",
    "\n",
    "# parse data_dict\n",
    "x_train = data_dict['x_train'] \n",
    "labels_train = data_dict['labels_train']\n",
    "x_test = data_dict['x_test']\n",
    "y_test = data_dict['y_test']\n",
    "x_cali = data_dict['x_cali'] \n",
    "labels_cali = data_dict['labels_cali']\n",
    "\n",
    "# Use Image Parameters.\n",
    "img_rows, img_cols, nchannels = x_train.shape[1:4]\n",
    "\n",
    "with mc.get_tensorflow_session() as sess:\n",
    "    with tf.variable_scope('dknn'):\n",
    "        # Instantiate model\n",
    "        model_dir = mc.get_model_dir_name()\n",
    "        model = mc.load_model(model_dir=model_dir)\n",
    "\n",
    "        # Extract representations for the training and calibration data at each layer of interest to the DkNN.\n",
    "        layers = ['ReLU1', 'ReLU3', 'ReLU5', 'logits']\n",
    "\n",
    "        #Euclidean DKNN\n",
    "        dknn = DkNNModel(\n",
    "        sess = sess,\n",
    "        model = model,\n",
    "        neighbors = mc.nb_neighbors,\n",
    "        proto_neighbors = mc.nb_proto_neighbors,\n",
    "        backend = mc.backend,\n",
    "        img_rows=mc.img_rows,\n",
    "        img_cols=mc.img_cols,\n",
    "        nchannels=mc.nchannels,\n",
    "        nb_classes=mc.nb_classes,\n",
    "        layers=layers,\n",
    "        train_data=x_train,\n",
    "        train_labels=labels_train,\n",
    "        method='euclidean',\n",
    "        scope='dknn')\n",
    "        \n",
    "        start = time.time()\n",
    "        dknn.fit()\n",
    "        end = time.time()\n",
    "        print(end-start)\n",
    "        \n",
    "        activations_dknn = dknn.get_activations(x_train[0:1])\n",
    "        \n",
    "        dknn.calibrate(x_cali, labels_cali)\n",
    "        preds_knn, _, _ = dknn.predict(x_test)\n",
    "\n",
    "        # Geodesic DKNN\n",
    "        dknn_geod = DkNNModel(\n",
    "        sess = sess,\n",
    "        model = model,\n",
    "        neighbors = mc.nb_neighbors,\n",
    "        proto_neighbors = mc.nb_proto_neighbors,\n",
    "        backend = mc.backend,\n",
    "        img_rows=mc.img_rows,\n",
    "        img_cols=mc.img_cols,\n",
    "        nchannels=mc.nchannels,\n",
    "        nb_classes=mc.nb_classes,\n",
    "        layers=layers,\n",
    "        train_data=x_train,\n",
    "        train_labels=labels_train,\n",
    "        method='geodesic',\n",
    "        neighbors_table_path=mc.get_model_dir_name(),\n",
    "        scope='dknn')\n",
    "\n",
    "        start = time.time()\n",
    "        dknn_geod.fit()\n",
    "        end = time.time()\n",
    "        print(end-start)\n",
    "        \n",
    "        activations_gdknn = dknn_geod.get_activations(x_train[0:1])\n",
    "        \n",
    "        dknn_geod.calibrate(x_cali, labels_cali)\n",
    "        preds_geod, _, _ = dknn_geod.predict(x_test)\n"
   ]
  },
  {
   "cell_type": "code",
   "execution_count": 4,
   "metadata": {},
   "outputs": [
    {
     "name": "stdout",
     "output_type": "stream",
     "text": [
      "0.524\n",
      "0.908\n"
     ]
    }
   ],
   "source": [
    "print((preds_knn==np.argmax(y_test,axis=1)).mean())\n",
    "print((preds_geod==np.argmax(y_test,axis=1)).mean())"
   ]
  },
  {
   "cell_type": "code",
   "execution_count": null,
   "metadata": {},
   "outputs": [],
   "source": [
    "pos_pos=((preds_knn==np.argmax(y_test,axis=1)) & (preds_geod==np.argmax(y_test,axis=1))).sum()\n",
    "pos_pos"
   ]
  },
  {
   "cell_type": "code",
   "execution_count": null,
   "metadata": {},
   "outputs": [],
   "source": [
    "pos_neg=((preds_knn==np.argmax(y_test,axis=1)) & ~(preds_geod==np.argmax(y_test,axis=1))).sum()\n",
    "pos_neg"
   ]
  },
  {
   "cell_type": "code",
   "execution_count": null,
   "metadata": {},
   "outputs": [],
   "source": [
    "neg_pos=(~(preds_knn==np.argmax(y_test,axis=1)) & (preds_geod==np.argmax(y_test,axis=1))).sum()\n",
    "neg_pos"
   ]
  },
  {
   "cell_type": "code",
   "execution_count": null,
   "metadata": {},
   "outputs": [],
   "source": [
    "neg_neg=(~(preds_knn==np.argmax(y_test,axis=1)) & (preds_geod==np.argmax(y_test,axis=1))).sum()\n",
    "neg_neg"
   ]
  },
  {
   "cell_type": "code",
   "execution_count": null,
   "metadata": {},
   "outputs": [],
   "source": []
  },
  {
   "cell_type": "code",
   "execution_count": null,
   "metadata": {},
   "outputs": [],
   "source": [
    "np.argmax(y_test,axis=1)"
   ]
  },
  {
   "cell_type": "code",
   "execution_count": null,
   "metadata": {},
   "outputs": [],
   "source": [
    "preds_knn"
   ]
  },
  {
   "cell_type": "code",
   "execution_count": null,
   "metadata": {},
   "outputs": [],
   "source": [
    "dknn_geod.train_activations['ReLU3']"
   ]
  },
  {
   "cell_type": "code",
   "execution_count": null,
   "metadata": {},
   "outputs": [],
   "source": [
    "dknn_geod.query_objects['ReLU3'].geodesic_kernel"
   ]
  },
  {
   "cell_type": "code",
   "execution_count": null,
   "metadata": {},
   "outputs": [],
   "source": [
    "import matplotlib\n",
    "import matplotlib.pyplot as plt\n",
    "from utils_kernel import euclidean_kernel, hard_geodesics_euclidean_kernel_regular\n",
    "from utils_visualization import plot_kernel"
   ]
  },
  {
   "cell_type": "code",
   "execution_count": null,
   "metadata": {},
   "outputs": [],
   "source": [
    "euclidean_matrix = euclidean_kernel(dknn.train_activations['ReLU1'])\n",
    "max_distance = np.max(euclidean_matrix)+1\n",
    "euclidean_matrix[euclidean_matrix == 0]=max_distance\n",
    "plot_kernel(euclidean_matrix)"
   ]
  },
  {
   "cell_type": "code",
   "execution_count": null,
   "metadata": {},
   "outputs": [],
   "source": [
    "geodesic_euclidean_matrix = hard_geodesics_euclidean_kernel_regular(dknn_geod.train_activations['ReLU1'], 5)\n",
    "max_distance = np.max(geodesic_euclidean_matrix)+1\n",
    "geodesic_euclidean_matrix[geodesic_euclidean_matrix == 0]=max_distance\n",
    "plot_kernel(geodesic_euclidean_matrix)"
   ]
  },
  {
   "cell_type": "code",
   "execution_count": null,
   "metadata": {},
   "outputs": [],
   "source": [
    "ks = range(1,70)\n",
    "same_class_euclidean = np.zeros(len(ks))\n",
    "same_class_geodesic = np.zeros(len(ks))\n",
    "for j,k in enumerate(ks):\n",
    "    acum_euc = 0\n",
    "    acum_geo = 0\n",
    "    for i in range(1000):\n",
    "        euclidean_neighbors_idx = np.argpartition(euclidean_matrix[i,:],k)[:k]\n",
    "        acum_euc += np.mean(labels_train[i]==labels_train[euclidean_neighbors_idx])\n",
    "\n",
    "        #geodesic_neighbors_idx = np.argpartition(geodesic_euclidean_matrix[i,:],k)[:k]\n",
    "        #acum_geo += np.mean(train_labels[i]==train_labels[geodesic_neighbors_idx])\n",
    "        acum_geo += np.mean(labels_train[i]==labels_train[dknn_geod.query_objects['ReLU1'].train_neighbor_index[i,:k]])\n",
    "    same_class_euclidean[j] = acum_euc/1000\n",
    "    same_class_geodesic[j] = acum_geo/1000\n",
    "    #print(j)"
   ]
  },
  {
   "cell_type": "code",
   "execution_count": null,
   "metadata": {},
   "outputs": [],
   "source": [
    "plt.plot(range(1,70),same_class_euclidean, label='Euclidean', linestyle='--')\n",
    "plt.plot(range(1,70),same_class_geodesic, label='Geodesic')\n",
    "plt.legend()\n",
    "plt.grid()\n",
    "plt.xlabel('Number of Neighbors')\n",
    "plt.ylabel('% of NN with same class')\n",
    "#plt.savefig('../results/comformity_comparison_relu1.png')"
   ]
  }
 ],
 "metadata": {
  "kernelspec": {
   "display_name": "Python 3",
   "language": "python",
   "name": "python3"
  },
  "language_info": {
   "codemirror_mode": {
    "name": "ipython",
    "version": 3
   },
   "file_extension": ".py",
   "mimetype": "text/x-python",
   "name": "python",
   "nbconvert_exporter": "python",
   "pygments_lexer": "ipython3",
   "version": "3.6.9"
  }
 },
 "nbformat": 4,
 "nbformat_minor": 4
}
