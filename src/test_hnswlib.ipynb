{
 "cells": [
  {
   "cell_type": "code",
   "execution_count": 1,
   "metadata": {},
   "outputs": [],
   "source": [
    "import hnswlib\n",
    "import numpy as np"
   ]
  },
  {
   "cell_type": "code",
   "execution_count": 2,
   "metadata": {},
   "outputs": [],
   "source": [
    "dim = 5\n",
    "num_elements = 10\n",
    "num_nei = 5\n",
    "# Generating sample data\n",
    "data = np.float32(np.random.random((num_elements, dim)))\n",
    "data_labels = np.arange(num_elements)\n",
    "\n",
    "# Declaring index\n",
    "p = hnswlib.Index(space = 'l2', dim = dim) # possible options are l2, cosine or ip\n",
    "\n",
    "# Initing index - the maximum number of elements should be known beforehand\n",
    "p.init_index(max_elements = num_elements, ef_construction = 200, M = 16)\n",
    "\n",
    "# Element insertion (can be called several times):\n",
    "p.add_items(data, data_labels)\n",
    "\n",
    "# Controlling the recall by setting ef:\n",
    "p.set_ef(50) # ef should always be > k\n",
    "\n",
    "# Query dataset, k - number of closest elements (returns 2 numpy arrays)\n",
    "labels, distances = p.knn_query(data, k = num_nei)"
   ]
  },
  {
   "cell_type": "code",
   "execution_count": 15,
   "metadata": {},
   "outputs": [
    {
     "name": "stdout",
     "output_type": "stream",
     "text": [
      "[[0 8 4 2 3]\n",
      " [1 2 4 8 0]\n",
      " [2 8 4 1 9]\n",
      " [3 0 4 2 8]\n",
      " [4 2 8 0 9]\n",
      " [5 9 2 8 1]\n",
      " [6 7 4 1 2]\n",
      " [7 4 6 9 8]\n",
      " [8 2 4 0 1]\n",
      " [9 5 2 4 8]]\n",
      "[[0.         0.5565159  0.5981668  0.6174321  0.67154723]\n",
      " [0.         0.51579463 0.6668134  0.71150196 0.8091073 ]\n",
      " [0.         0.41812053 0.45895582 0.51579463 0.54268676]\n",
      " [0.         0.67154723 0.7538125  1.0567069  1.0663426 ]\n",
      " [0.         0.45895582 0.5292437  0.5981668  0.6465419 ]\n",
      " [0.         0.54015934 0.580719   0.72352177 0.8274091 ]\n",
      " [0.         0.76762354 0.79124206 0.83210987 1.0172647 ]\n",
      " [0.         0.67817444 0.76762354 0.98682976 1.0448397 ]\n",
      " [0.         0.41812053 0.5292437  0.5565159  0.71150196]\n",
      " [0.         0.54015934 0.54268676 0.6465419  0.71367615]]\n"
     ]
    }
   ],
   "source": [
    "print(labels)\n",
    "print(distances)"
   ]
  },
  {
   "cell_type": "code",
   "execution_count": 4,
   "metadata": {},
   "outputs": [],
   "source": [
    "from sklearn.utils.graph import graph_shortest_path\n",
    "from sklearn.neighbors import NearestNeighbors, kneighbors_graph"
   ]
  },
  {
   "cell_type": "code",
   "execution_count": 5,
   "metadata": {},
   "outputs": [],
   "source": [
    "def hard_geodesics_euclidean_kernel_regular(features, n_neighbors):\n",
    "    # Regular\n",
    "    nbrs_ = NearestNeighbors(n_neighbors=n_neighbors,\n",
    "                             algorithm='auto',\n",
    "                             metric='euclidean',\n",
    "                             n_jobs=2)\n",
    "    nbrs_.fit(features)\n",
    "    kng = kneighbors_graph(X=nbrs_, n_neighbors=n_neighbors,\n",
    "                           metric='euclidean',\n",
    "                           mode='distance', n_jobs=2)\n",
    "    dist_matrix_ = graph_shortest_path(kng,\n",
    "                                       method='FW',\n",
    "                                       directed=False)\n",
    "    kernel = (0.5)*dist_matrix_**2\n",
    "    max_distance = np.max(kernel)+1\n",
    "    kernel[kernel == 0]=max_distance\n",
    "    return kernel, kng"
   ]
  },
  {
   "cell_type": "code",
   "execution_count": 11,
   "metadata": {},
   "outputs": [],
   "source": [
    "a,b=hard_geodesics_euclidean_kernel_regular(data, 3)"
   ]
  },
  {
   "cell_type": "code",
   "execution_count": null,
   "metadata": {},
   "outputs": [],
   "source": [
    "np.linalg.norm(data[5]-data[0])"
   ]
  },
  {
   "cell_type": "code",
   "execution_count": 12,
   "metadata": {},
   "outputs": [
    {
     "name": "stdout",
     "output_type": "stream",
     "text": [
      "  (0, 8)\t0.5565158927928648\n",
      "  (0, 4)\t0.5981667952274659\n",
      "  (0, 2)\t0.617432115563808\n",
      "  (1, 2)\t0.5157946311747941\n",
      "  (1, 4)\t0.6668133456479236\n",
      "  (1, 8)\t0.711501962731765\n",
      "  (2, 8)\t0.41812052378390047\n",
      "  (2, 4)\t0.45895582479734404\n",
      "  (2, 1)\t0.5157946311747941\n",
      "  (3, 0)\t0.6715472926084782\n",
      "  (3, 4)\t0.7538125507225271\n",
      "  (3, 2)\t1.0567068489089755\n",
      "  (4, 2)\t0.45895582479734404\n",
      "  (4, 8)\t0.5292436871272816\n",
      "  (4, 0)\t0.5981667952274659\n",
      "  (5, 9)\t0.5401593008668456\n",
      "  (5, 2)\t0.5807190201027894\n",
      "  (5, 8)\t0.7235217737714046\n",
      "  (6, 7)\t0.7676235516148121\n",
      "  (6, 4)\t0.791242093004135\n",
      "  (6, 1)\t0.8321098755050114\n",
      "  (7, 4)\t0.6781744706028083\n",
      "  (7, 6)\t0.7676235516148121\n",
      "  (7, 9)\t0.986829739664638\n",
      "  (8, 2)\t0.41812052378390047\n",
      "  (8, 4)\t0.5292436871272816\n",
      "  (8, 0)\t0.5565158927928648\n",
      "  (9, 5)\t0.5401593008668456\n",
      "  (9, 2)\t0.5426867531568511\n",
      "  (9, 4)\t0.6465418870658352\n"
     ]
    }
   ],
   "source": [
    "print(b)"
   ]
  },
  {
   "cell_type": "code",
   "execution_count": 9,
   "metadata": {},
   "outputs": [
    {
     "data": {
      "text/plain": [
       "0.30971"
      ]
     },
     "execution_count": 9,
     "metadata": {},
     "output_type": "execute_result"
    }
   ],
   "source": [
    "np.linalg.norm(data[8]-data[0])*np.linalg.norm(data[8]-data[0])"
   ]
  },
  {
   "cell_type": "code",
   "execution_count": 10,
   "metadata": {},
   "outputs": [
    {
     "data": {
      "text/plain": [
       "0.55651593"
      ]
     },
     "execution_count": 10,
     "metadata": {},
     "output_type": "execute_result"
    }
   ],
   "source": [
    "np.linalg.norm(data[8]-data[0])"
   ]
  },
  {
   "cell_type": "code",
   "execution_count": null,
   "metadata": {},
   "outputs": [],
   "source": []
  }
 ],
 "metadata": {
  "kernelspec": {
   "display_name": "Python 3",
   "language": "python",
   "name": "python3"
  },
  "language_info": {
   "codemirror_mode": {
    "name": "ipython",
    "version": 3
   },
   "file_extension": ".py",
   "mimetype": "text/x-python",
   "name": "python",
   "nbconvert_exporter": "python",
   "pygments_lexer": "ipython3",
   "version": "3.6.9"
  }
 },
 "nbformat": 4,
 "nbformat_minor": 4
}
