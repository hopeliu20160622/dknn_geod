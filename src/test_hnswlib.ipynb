{
 "cells": [
  {
   "cell_type": "code",
   "execution_count": 1,
   "metadata": {},
   "outputs": [],
   "source": [
    "import hnswlib\n",
    "import numpy as np"
   ]
  },
  {
   "cell_type": "code",
   "execution_count": 54,
   "metadata": {},
   "outputs": [],
   "source": [
    "dim = 5\n",
    "num_elements = 10\n",
    "num_nei = 5\n",
    "# Generating sample data\n",
    "data = np.float32(np.random.random((num_elements, dim)))\n",
    "data_labels = np.arange(num_elements)\n",
    "\n",
    "# Declaring index\n",
    "p = hnswlib.Index(space = 'l2', dim = dim) # possible options are l2, cosine or ip\n",
    "\n",
    "# Initing index - the maximum number of elements should be known beforehand\n",
    "p.init_index(max_elements = num_elements, ef_construction = 200, M = 16)\n",
    "\n",
    "# Element insertion (can be called several times):\n",
    "p.add_items(data, data_labels)\n",
    "\n",
    "# Controlling the recall by setting ef:\n",
    "p.set_ef(50) # ef should always be > k\n",
    "\n",
    "# Query dataset, k - number of closest elements (returns 2 numpy arrays)\n",
    "labels, distances = p.knn_query(data, k = num_nei)"
   ]
  },
  {
   "cell_type": "code",
   "execution_count": 55,
   "metadata": {},
   "outputs": [
    {
     "data": {
      "text/plain": [
       "0.4962667"
      ]
     },
     "execution_count": 55,
     "metadata": {},
     "output_type": "execute_result"
    }
   ],
   "source": [
    "np.linalg.norm(data[3]-data[0])*np.linalg.norm(data[3]-data[0])"
   ]
  },
  {
   "cell_type": "code",
   "execution_count": 60,
   "metadata": {},
   "outputs": [],
   "source": [
    "I = np.array(list(range(num_elements))*(num_nei-1))\n",
    "J = labels[:,1:].flatten('F')\n",
    "V = distances[:,1:].flatten('F')"
   ]
  },
  {
   "cell_type": "code",
   "execution_count": 50,
   "metadata": {},
   "outputs": [
    {
     "name": "stdout",
     "output_type": "stream",
     "text": [
      "[[0 2 9 5 7]\n",
      " [1 7 8 4 9]\n",
      " [2 0 9 7 5]\n",
      " [3 8 5 4 7]\n",
      " [4 5 9 8 6]\n",
      " [5 0 8 6 9]\n",
      " [6 5 9 4 8]\n",
      " [7 1 2 9 5]\n",
      " [8 3 5 7 4]\n",
      " [9 2 0 7 5]]\n",
      "[[0.         0.32622173 0.35531518 0.41242993 0.9207057 ]\n",
      " [0.         0.48018348 0.8570967  0.9288626  1.0566152 ]\n",
      " [0.         0.32622173 0.33570072 0.5210747  0.6813143 ]\n",
      " [0.         0.18875808 0.57291615 0.9289004  1.1151049 ]\n",
      " [0.         0.6142057  0.6679617  0.7783899  0.8595362 ]\n",
      " [0.         0.41242993 0.44016412 0.51243216 0.5628238 ]\n",
      " [0.         0.51243216 0.84828025 0.8595362  0.88191456]\n",
      " [0.         0.48018348 0.5210747  0.5498486  0.586231  ]\n",
      " [0.         0.18875808 0.44016412 0.66557336 0.7783899 ]\n",
      " [0.         0.33570072 0.35531518 0.5498486  0.5628238 ]]\n"
     ]
    }
   ],
   "source": [
    "print(labels)\n",
    "print(distances)"
   ]
  },
  {
   "cell_type": "code",
   "execution_count": 51,
   "metadata": {},
   "outputs": [],
   "source": [
    "kng = np.zeros((num_elements, num_elements))\n",
    "for i, label in enumerate(labels):\n",
    "    for index, neighbor in enumerate(label[1:]):\n",
    "        kng[i][neighbor] = distances[i][index+1]\n",
    "kng[kng==0]=np.inf"
   ]
  },
  {
   "cell_type": "code",
   "execution_count": 52,
   "metadata": {},
   "outputs": [
    {
     "data": {
      "text/plain": [
       "array([[       inf,        inf, 0.32622173,        inf,        inf,\n",
       "        0.41242993,        inf, 0.92070568,        inf, 0.35531518],\n",
       "       [       inf,        inf,        inf,        inf, 0.92886257,\n",
       "               inf,        inf, 0.48018348, 0.85709667, 1.05661523],\n",
       "       [0.32622173,        inf,        inf,        inf,        inf,\n",
       "        0.68131429,        inf, 0.52107471,        inf, 0.33570072],\n",
       "       [       inf,        inf,        inf,        inf, 0.92890042,\n",
       "        0.57291615,        inf, 1.11510491, 0.18875808,        inf],\n",
       "       [       inf,        inf,        inf,        inf,        inf,\n",
       "        0.61420572, 0.85953617,        inf, 0.77838987, 0.66796172],\n",
       "       [0.41242993,        inf,        inf,        inf,        inf,\n",
       "               inf, 0.51243216,        inf, 0.44016412, 0.56282377],\n",
       "       [       inf,        inf,        inf,        inf, 0.85953617,\n",
       "        0.51243216,        inf,        inf, 0.88191456, 0.84828025],\n",
       "       [       inf, 0.48018348, 0.52107471,        inf,        inf,\n",
       "        0.58623099,        inf,        inf,        inf, 0.54984862],\n",
       "       [       inf,        inf,        inf, 0.18875808, 0.77838987,\n",
       "        0.44016412,        inf, 0.66557336,        inf,        inf],\n",
       "       [0.35531518,        inf, 0.33570072,        inf,        inf,\n",
       "        0.56282377,        inf, 0.54984862,        inf,        inf]])"
      ]
     },
     "execution_count": 52,
     "metadata": {},
     "output_type": "execute_result"
    }
   ],
   "source": [
    "kng"
   ]
  },
  {
   "cell_type": "code",
   "execution_count": 64,
   "metadata": {},
   "outputs": [],
   "source": [
    "from scipy import sparse\n",
    "\n",
    "A = sparse.coo_matrix((V,(I,J)),shape=(num_elements,num_elements))"
   ]
  },
  {
   "cell_type": "code",
   "execution_count": 65,
   "metadata": {},
   "outputs": [
    {
     "data": {
      "text/plain": [
       "<10x10 sparse matrix of type '<class 'numpy.float32'>'\n",
       "\twith 40 stored elements in COOrdinate format>"
      ]
     },
     "execution_count": 65,
     "metadata": {},
     "output_type": "execute_result"
    }
   ],
   "source": [
    "A"
   ]
  },
  {
   "cell_type": "code",
   "execution_count": null,
   "metadata": {},
   "outputs": [],
   "source": []
  }
 ],
 "metadata": {
  "kernelspec": {
   "display_name": "Python 3",
   "language": "python",
   "name": "python3"
  },
  "language_info": {
   "codemirror_mode": {
    "name": "ipython",
    "version": 3
   },
   "file_extension": ".py",
   "mimetype": "text/x-python",
   "name": "python",
   "nbconvert_exporter": "python",
   "pygments_lexer": "ipython3",
   "version": "3.6.9"
  }
 },
 "nbformat": 4,
 "nbformat_minor": 4
}
