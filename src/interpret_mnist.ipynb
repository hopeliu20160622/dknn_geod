{
 "cells": [
  {
   "cell_type": "code",
   "execution_count": 10,
   "metadata": {},
   "outputs": [],
   "source": [
    "from __future__ import absolute_import\n",
    "from __future__ import division\n",
    "from __future__ import print_function\n",
    "from __future__ import unicode_literals\n",
    "\n",
    "import os\n",
    "import time\n",
    "import numpy as np\n",
    "\n",
    "import tensorflow as tf\n",
    "from tensorflow.python.util import deprecation\n",
    "deprecation._PRINT_DEPRECATION_WARNINGS = False\n",
    "tf.compat.v1.logging.set_verbosity(tf.compat.v1.logging.ERROR)\n",
    "\n",
    "from cleverhans.utils_tf import batch_eval\n",
    "\n",
    "from utils_config import ModelConfig, dataset_loader\n",
    "from utils_experiment import get_data_dict\n",
    "from utils_experiment import train_model\n",
    "from utils_experiment import hyperparameter_selection\n",
    "from dknn import DkNNModel, NearestNeighbor"
   ]
  },
  {
   "cell_type": "code",
   "execution_count": 11,
   "metadata": {},
   "outputs": [],
   "source": [
    "mc = ModelConfig(config_file='../configs/config_mnist.yaml',\n",
    "                 root_dir='../results/')"
   ]
  },
  {
   "cell_type": "code",
   "execution_count": 12,
   "metadata": {},
   "outputs": [
    {
     "name": "stderr",
     "output_type": "stream",
     "text": [
      "/Users/nicholasroberts/anaconda3/envs/gdknn/lib/python3.6/site-packages/cleverhans/utils_tf.py:511: UserWarning: No GPUS, running on CPU\n",
      "  warnings.warn(\"No GPUS, running on CPU\")\n"
     ]
    },
    {
     "name": "stdout",
     "output_type": "stream",
     "text": [
      "num_devices:  1\n"
     ]
    },
    {
     "name": "stderr",
     "output_type": "stream",
     "text": [
      "[INFO 2019-11-29 16:37:52,194 cleverhans] Epoch 0 took 15.373950958251953 seconds\n"
     ]
    },
    {
     "name": "stdout",
     "output_type": "stream",
     "text": [
      "Test accuracy: 0.8760\n"
     ]
    },
    {
     "name": "stderr",
     "output_type": "stream",
     "text": [
      "[INFO 2019-11-29 16:38:09,255 cleverhans] Epoch 1 took 14.593560934066772 seconds\n"
     ]
    },
    {
     "name": "stdout",
     "output_type": "stream",
     "text": [
      "Test accuracy: 0.9120\n"
     ]
    },
    {
     "name": "stderr",
     "output_type": "stream",
     "text": [
      "[INFO 2019-11-29 16:38:26,077 cleverhans] Epoch 2 took 14.459917068481445 seconds\n"
     ]
    },
    {
     "name": "stdout",
     "output_type": "stream",
     "text": [
      "Test accuracy: 0.8890\n"
     ]
    },
    {
     "name": "stderr",
     "output_type": "stream",
     "text": [
      "[INFO 2019-11-29 16:38:42,884 cleverhans] Epoch 3 took 14.483749866485596 seconds\n"
     ]
    },
    {
     "name": "stdout",
     "output_type": "stream",
     "text": [
      "Test accuracy: 0.8870\n"
     ]
    },
    {
     "name": "stderr",
     "output_type": "stream",
     "text": [
      "[INFO 2019-11-29 16:38:59,869 cleverhans] Epoch 4 took 14.641960859298706 seconds\n"
     ]
    },
    {
     "name": "stdout",
     "output_type": "stream",
     "text": [
      "Test accuracy: 0.8940\n"
     ]
    },
    {
     "name": "stderr",
     "output_type": "stream",
     "text": [
      "[INFO 2019-11-29 16:39:16,674 cleverhans] Epoch 5 took 14.451730251312256 seconds\n"
     ]
    },
    {
     "name": "stdout",
     "output_type": "stream",
     "text": [
      "Test accuracy: 0.9420\n"
     ]
    }
   ],
   "source": [
    "train_model(mc)"
   ]
  },
  {
   "cell_type": "code",
   "execution_count": 55,
   "metadata": {},
   "outputs": [
    {
     "name": "stdout",
     "output_type": "stream",
     "text": [
      "Loading model from:\n",
      " ../results/MNIST/nb_train_1000_lr_0.001_bs_2_1/model.joblib\n",
      "\n",
      "Constructing the NearestNeighbor table layer ReLU1\n",
      "Constructing the NearestNeighbor table layer ReLU3\n",
      "Constructing the NearestNeighbor table layer ReLU5\n",
      "Constructing the NearestNeighbor table layer logits\n",
      "27.496877193450928\n",
      "Starting calibration.\n",
      "Completed calibration.\n",
      "\n",
      "Constructing the GeodesicNearestNeighbor table layer ReLU1\n",
      "Constructing the GeodesicNearestNeighbor table layer ReLU3\n",
      "Constructing the GeodesicNearestNeighbor table layer ReLU5\n",
      "Constructing the GeodesicNearestNeighbor table layer logits\n",
      "0.39830994606018066\n",
      "Starting calibration.\n",
      "Completed calibration.\n",
      "\n"
     ]
    }
   ],
   "source": [
    "# reand and wrangle data\n",
    "data_dict = get_data_dict(mc)\n",
    "\n",
    "# parse data_dict\n",
    "x_train = data_dict['x_train'] \n",
    "labels_train = data_dict['labels_train']\n",
    "x_test = data_dict['x_test']\n",
    "y_test = data_dict['y_test']\n",
    "x_cali = data_dict['x_cali'] \n",
    "labels_cali = data_dict['labels_cali']\n",
    "\n",
    "# Use Image Parameters.\n",
    "img_rows, img_cols, nchannels = x_train.shape[1:4]\n",
    "\n",
    "knns, knns_labels = {}, {}\n",
    "knns_g, knns_g_labels = {}, {}\n",
    "\n",
    "with mc.get_tensorflow_session() as sess:\n",
    "    with tf.variable_scope('dknn'):\n",
    "        # Instantiate model\n",
    "        model_dir = mc.get_model_dir_name()\n",
    "        model = mc.load_model(model_dir=model_dir)\n",
    "\n",
    "        # Extract representations for the training and calibration data at each layer of interest to the DkNN.\n",
    "        layers = ['ReLU1', 'ReLU3', 'ReLU5', 'logits']\n",
    "        #layers = ['Input0', 'Conv2D1', 'Flatten2', 'logits']\n",
    "        \n",
    "        #Euclidean DKNN\n",
    "        dknn = DkNNModel(\n",
    "            sess = sess,\n",
    "            model = model,\n",
    "            neighbors = mc.nb_neighbors,\n",
    "            proto_neighbors = mc.nb_proto_neighbors,\n",
    "            img_rows=mc.img_rows,\n",
    "            img_cols=mc.img_cols,\n",
    "            backend=mc.backend,\n",
    "            nchannels=mc.nchannels,\n",
    "            nb_classes=mc.nb_classes,\n",
    "            layers=layers,\n",
    "            train_data=x_train,\n",
    "            train_labels=labels_train,\n",
    "            method='euclidean',\n",
    "            neighbors_table_path=mc.get_model_dir_name(),\n",
    "            scope='dknn')\n",
    "        \n",
    "        start = time.time()\n",
    "        dknn.fit()\n",
    "        end = time.time()\n",
    "        print(end-start)\n",
    "                \n",
    "        dknn.calibrate(x_cali, labels_cali)\n",
    "        preds_knn, _, _ = dknn.predict(x_test)\n",
    "\n",
    "        # Geodesic DKNN\n",
    "        dknn_geod = DkNNModel(\n",
    "            sess = sess,\n",
    "            model = model,\n",
    "            neighbors = mc.nb_neighbors,\n",
    "            proto_neighbors = mc.nb_proto_neighbors,\n",
    "            img_rows=mc.img_rows,\n",
    "            img_cols=mc.img_cols,\n",
    "            backend=mc.backend,\n",
    "            nchannels=mc.nchannels,\n",
    "            nb_classes=mc.nb_classes,\n",
    "            layers=layers,\n",
    "            train_data=x_train,\n",
    "            train_labels=labels_train,\n",
    "            method='geodesic',\n",
    "            neighbors_table_path=mc.get_model_dir_name(),\n",
    "            scope='dknn')\n",
    "\n",
    "        start = time.time()\n",
    "        dknn_geod.fit()\n",
    "        end = time.time()\n",
    "        print(end-start)\n",
    "        \n",
    "        dknn_geod.calibrate(x_cali, labels_cali)\n",
    "        preds_geod, _, _ = dknn_geod.predict(x_test)\n",
    "        \n",
    "        \n",
    "        # Get activations for sample point\n",
    "        data_activations = dknn.get_activations(x_test[30][np.newaxis, :])\n",
    "        knns, knns_labels = dknn.find_train_knns(data_activations)\n",
    "        \n",
    "        data_activations_g = dknn_geod.get_activations(x_test[30][np.newaxis, :])\n",
    "        knns_g, knns_g_labels = dknn_geod.find_train_knns(data_activations_g)\n",
    "        "
   ]
  },
  {
   "cell_type": "code",
   "execution_count": 56,
   "metadata": {},
   "outputs": [
    {
     "name": "stdout",
     "output_type": "stream",
     "text": [
      "0.4\n",
      "0.936\n"
     ]
    }
   ],
   "source": [
    "print((preds_knn==np.argmax(y_test,axis=1)).mean())\n",
    "print((preds_geod==np.argmax(y_test,axis=1)).mean())"
   ]
  },
  {
   "cell_type": "code",
   "execution_count": 15,
   "metadata": {},
   "outputs": [
    {
     "data": {
      "text/plain": [
       "array([0, 5, 4, 3, 1, 1, 7, 4, 9, 9, 4, 8, 4, 0, 2, 4, 5, 1, 1, 6, 4, 7,\n",
       "       1, 9, 4, 2, 4, 1, 5, 5, 3, 8, 3, 1, 4, 5, 6, 8, 9, 4, 1, 5, 3, 8,\n",
       "       0, 3, 2, 5, 1, 2, 8, 3, 4, 4, 0, 8, 8, 3, 3, 1, 7, 3, 5, 9, 6, 3,\n",
       "       2, 6, 1, 3, 6, 0, 7, 2, 1, 7, 1, 4, 2, 4, 2, 1, 7, 9, 6, 1, 1, 2,\n",
       "       4, 8, 1, 7, 7, 4, 8, 0, 7, 3, 1, 3, 1, 0, 7, 7, 0, 3, 5, 5, 2, 7,\n",
       "       6, 6, 9, 2, 8, 3, 5, 2, 2, 5, 6, 0, 8, 2, 9, 2, 8, 8, 8, 8, 7, 4,\n",
       "       9, 3, 0, 6, 6, 3, 2, 1, 3, 2, 2, 9, 3, 0, 0, 5, 7, 8, 1, 4, 4, 6,\n",
       "       0, 2, 9, 1, 4, 7, 4, 7, 3, 9, 8, 8, 4, 7, 1, 2, 1, 2, 2, 3, 2, 3,\n",
       "       2, 3, 9, 1, 7, 4, 0, 3, 5, 5, 8, 6, 3, 2, 6, 7, 6, 6, 3, 2, 7, 8,\n",
       "       1, 1, 7, 5, 6, 4, 9, 5, 1, 3, 3, 4, 7, 8, 9, 1, 1, 6, 9, 1, 4, 4,\n",
       "       5, 4, 0, 6, 2, 2, 3, 1, 5, 1, 2, 0, 3, 8, 1, 2, 6, 7, 1, 6, 2, 3,\n",
       "       9, 0, 1, 2, 2, 0, 8, 9])"
      ]
     },
     "execution_count": 15,
     "metadata": {},
     "output_type": "execute_result"
    }
   ],
   "source": [
    "np.argmax(y_test,axis=1)"
   ]
  },
  {
   "cell_type": "code",
   "execution_count": null,
   "metadata": {},
   "outputs": [],
   "source": []
  },
  {
   "cell_type": "code",
   "execution_count": 9,
   "metadata": {},
   "outputs": [
    {
     "data": {
      "text/plain": [
       "array([[-1.5092314e-03, -2.8760508e-03, -8.2429338e-05, ...,\n",
       "        -2.8867761e-03, -1.2071506e-02, -1.7074790e-02],\n",
       "       [-1.5092314e-03, -2.8760508e-03, -8.2429338e-05, ...,\n",
       "        -2.9685991e-03, -1.2071506e-02, -1.7074790e-02],\n",
       "       [ 9.4541768e-03, -2.8760508e-03, -8.2429338e-05, ...,\n",
       "        -2.9685991e-03, -1.2071506e-02, -1.7074790e-02],\n",
       "       ...,\n",
       "       [-1.5092314e-03,  2.0107185e-04, -8.2429338e-05, ...,\n",
       "        -2.9685991e-03, -1.2071506e-02, -2.9263124e-03],\n",
       "       [-1.5092314e-03, -2.8760508e-03, -8.2429338e-05, ...,\n",
       "        -2.9685991e-03, -1.2071506e-02, -1.7074790e-02],\n",
       "       [-1.5092314e-03,  3.5749476e-02, -8.2429338e-05, ...,\n",
       "        -4.1867560e-04, -1.1427046e-02,  2.3924865e-02]], dtype=float32)"
      ]
     },
     "execution_count": 9,
     "metadata": {},
     "output_type": "execute_result"
    }
   ],
   "source": [
    "dknn_geod.train_activations['ReLU3']"
   ]
  },
  {
   "cell_type": "code",
   "execution_count": 25,
   "metadata": {},
   "outputs": [
    {
     "data": {
      "text/plain": [
       "array([0, 5, 4, 3, 1, 1, 7, 4, 9, 9, 9, 8, 4, 0, 2, 4, 5, 1, 1, 6, 4, 7,\n",
       "       1, 9, 4, 2, 4, 1, 5, 5, 3, 8, 3, 1, 4, 5, 6, 8, 9, 4, 1, 5, 3, 8,\n",
       "       0, 3, 2, 5, 1, 2, 5, 3, 4, 4, 0, 8, 8, 3, 3, 1, 2, 3, 5, 9, 6, 3,\n",
       "       2, 6, 1, 3, 6, 0, 7, 2, 1, 7, 1, 4, 2, 4, 2, 1, 7, 9, 6, 1, 1, 2,\n",
       "       4, 0, 1, 7, 7, 4, 7, 0, 7, 3, 1, 3, 1, 0, 7, 7, 0, 3, 5, 5, 2, 7,\n",
       "       6, 6, 9, 2, 8, 3, 5, 2, 2, 5, 6, 0, 8, 2, 9, 2, 8, 8, 8, 8, 7, 9,\n",
       "       9, 3, 0, 6, 6, 3, 2, 1, 3, 2, 2, 9, 3, 0, 0, 5, 7, 8, 1, 4, 4, 6,\n",
       "       0, 2, 9, 1, 4, 7, 4, 7, 3, 9, 8, 8, 4, 7, 1, 2, 1, 2, 2, 3, 7, 3,\n",
       "       8, 3, 9, 1, 7, 4, 0, 3, 5, 5, 8, 6, 5, 0, 6, 7, 6, 6, 3, 2, 7, 9,\n",
       "       1, 1, 2, 5, 6, 4, 9, 5, 1, 3, 3, 9, 9, 8, 9, 1, 1, 0, 9, 1, 4, 4,\n",
       "       5, 4, 0, 6, 2, 2, 3, 1, 5, 1, 2, 0, 2, 8, 1, 2, 6, 7, 1, 6, 2, 3,\n",
       "       9, 0, 1, 2, 2, 0, 8, 9], dtype=int32)"
      ]
     },
     "execution_count": 25,
     "metadata": {},
     "output_type": "execute_result"
    }
   ],
   "source": [
    "preds_geod"
   ]
  },
  {
   "cell_type": "code",
   "execution_count": 69,
   "metadata": {},
   "outputs": [],
   "source": [
    "import matplotlib\n",
    "import matplotlib.pyplot as plt"
   ]
  },
  {
   "cell_type": "code",
   "execution_count": 24,
   "metadata": {},
   "outputs": [
    {
     "data": {
      "text/plain": [
       "<bound method DkNNModel.find_train_knns of <dknn.DkNNModel object at 0x14b532748>>"
      ]
     },
     "execution_count": 24,
     "metadata": {},
     "output_type": "execute_result"
    }
   ],
   "source": [
    "\n",
    "preds_geod, _, _ = dknn_geod.predict(x_test)\n",
    "dknn_geod.find_train_knns(preds_geod)"
   ]
  },
  {
   "cell_type": "code",
   "execution_count": 157,
   "metadata": {},
   "outputs": [
    {
     "data": {
      "text/plain": [
       "{'ReLU1': array([[ 12, 298, 752, 392, 874, 490, 486, 136, 149,  74,  98, 198, 924,\n",
       "         356, 284, 404, 866, 875, 760, 316,  86, 228,  27, 748, 620, 890,\n",
       "         332, 130, 970, 975, 215,  48,  50, 856, 266, 767, 504, 242, 675,\n",
       "         386, 840, 992,  49,  10, 736, 479, 628, 330, 956, 808, 886, 602,\n",
       "         254, 111,  25, 244, 544, 830, 998, 546, 352, 182, 134,  28,  76,\n",
       "         740, 495, 983, 895, 502, 512, 554, 452, 726, 862,  30, 252, 953,\n",
       "          44, 333, 722, 458, 792, 878, 360, 588, 516, 246, 540, 643, 734,\n",
       "         530, 974, 668, 140, 984, 144, 966, 718, 312, 532, 235, 444, 789,\n",
       "           7, 321, 291, 179, 424, 107, 909, 341, 361, 433, 695, 255, 135,\n",
       "         715, 557, 861, 279, 281, 203, 549, 719, 405, 811, 731]],\n",
       "       dtype=int32),\n",
       " 'ReLU3': array([[490, 975,  50, 874, 675, 992, 767, 215, 254, 909,  49, 495,  10,\n",
       "          12, 298, 546, 242, 840, 330, 748, 970, 452, 998, 789, 235, 433,\n",
       "         695, 715, 321, 861, 811, 731, 281, 255, 291, 867, 643, 479, 107,\n",
       "         341, 135,  27, 895, 405,  74, 157, 752,   7, 514, 699, 857, 486,\n",
       "         136, 557, 198, 890, 679,  98, 837, 549, 130, 279, 856, 956, 346,\n",
       "         149, 620, 392, 581, 544, 886, 875, 356, 404,   0, 327, 332, 316,\n",
       "         561, 236,  80,  86, 396, 132, 924, 760, 504, 805, 512, 376,  48,\n",
       "         808, 878, 966, 768,  25, 622, 719, 474, 602, 266, 352, 574, 866,\n",
       "         182, 244, 916, 502, 690, 306, 228, 138, 361, 815, 530, 843, 726,\n",
       "         670, 160, 845, 179, 799,  24, 134, 496, 111, 652, 613]],\n",
       "       dtype=int32),\n",
       " 'ReLU5': array([[998,  50, 254, 452, 546, 330, 675, 242,  74, 975, 490, 890, 909,\n",
       "          86, 767,  30, 670, 789,  98,  27, 495, 250, 215, 281, 867, 992,\n",
       "         695, 715, 433, 857, 107, 405, 731, 130, 811, 235, 479, 298, 861,\n",
       "         135, 856,   7,  10, 808, 149, 341, 643, 874, 895, 966,  49, 752,\n",
       "         179,  12, 327, 486, 953, 198, 136, 875, 392, 321, 557, 291, 255,\n",
       "         549, 111, 561, 878, 356, 840, 279, 157, 760, 361, 581, 983, 425,\n",
       "          44, 645, 203, 613, 843, 574, 629, 540, 459, 181, 500, 207, 134,\n",
       "         509, 659, 228, 870, 650, 570, 248, 664,  24,  38, 518, 824, 120,\n",
       "         268, 954, 552, 444,   6, 738,  70, 200, 730, 104, 898, 478, 324,\n",
       "         978, 950,   5, 288, 654, 422, 358, 394,   8, 798, 199]],\n",
       "       dtype=int32),\n",
       " 'logits': array([[857, 789,  74,  50, 330, 675,  98, 327, 808, 953, 130, 695, 767,\n",
       "         861, 215,  27, 878, 909, 867, 975, 291, 479, 235, 321, 890, 540,\n",
       "         731, 495, 433, 715, 557, 549, 998, 811, 613, 255, 561, 581, 405,\n",
       "         983, 298, 281,  10, 279, 643, 645,   7, 856, 135, 509, 452, 490,\n",
       "         181, 111,  49, 341, 574, 203, 361, 157, 254, 546, 207,  86, 179,\n",
       "         895, 107, 425, 992, 459,  44, 356, 840, 659, 149, 874, 875, 242,\n",
       "         760, 629,  30,  12, 843, 486, 136, 500, 228, 752, 198, 670, 250,\n",
       "         392, 966,   0,   0,   0,   0,   0,   0,   0,   0,   0,   0,   0,\n",
       "           0,   0,   0,   0,   0,   0,   0,   0,   0,   0,   0,   0,   0,\n",
       "           0,   0,   0,   0,   0,   0,   0,   0,   0,   0,   0]],\n",
       "       dtype=int32)}"
      ]
     },
     "execution_count": 157,
     "metadata": {},
     "output_type": "execute_result"
    }
   ],
   "source": [
    "knns_g"
   ]
  },
  {
   "cell_type": "code",
   "execution_count": 52,
   "metadata": {},
   "outputs": [
    {
     "data": {
      "text/plain": [
       "3"
      ]
     },
     "execution_count": 52,
     "metadata": {},
     "output_type": "execute_result"
    }
   ],
   "source": [
    "np.argmax(y_test[30])"
   ]
  },
  {
   "cell_type": "code",
   "execution_count": 151,
   "metadata": {},
   "outputs": [],
   "source": [
    "np.random.seed(0)\n",
    "\n",
    "#samples_knn = np.random.choice(np.nonzero(knns['ReLU3'][0])[0], 9, replace=False)\n",
    "#samples_gknn = np.random.choice(np.nonzero(knns_g['ReLU3'][0])[0], 9, replace=False)\n"
   ]
  },
  {
   "cell_type": "code",
   "execution_count": 152,
   "metadata": {},
   "outputs": [
    {
     "data": {
      "image/png": "[encoded data removed]",
      "text/plain": [
       "<Figure size 432x288 with 1 Axes>"
      ]
     },
     "metadata": {},
     "output_type": "display_data"
    }
   ],
   "source": [
    "plt.imshow(x_test[30][np.newaxis, :][0, :, :, 0])\n",
    "plt.show()"
   ]
  },
  {
   "cell_type": "code",
   "execution_count": 153,
   "metadata": {},
   "outputs": [
    {
     "data": {
      "image/png": "[encoded data removed]",
      "text/plain": [
       "<Figure size 432x288 with 9 Axes>"
      ]
     },
     "metadata": {},
     "output_type": "display_data"
    }
   ],
   "source": [
    "plt.gray()\n",
    "\n",
    "for i in range(9):\n",
    "    plt.subplot(3, 3, i+1)\n",
    "    plt.imshow(x_train[knns['ReLU3'][0][samples_knn[i]], :, :, 0])\n",
    "    \n",
    "plt.show()"
   ]
  },
  {
   "cell_type": "code",
   "execution_count": 154,
   "metadata": {},
   "outputs": [
    {
     "data": {
      "image/png": "[encoded data removed]",
      "text/plain": [
       "<Figure size 432x288 with 9 Axes>"
      ]
     },
     "metadata": {},
     "output_type": "display_data"
    }
   ],
   "source": [
    "plt.gray()\n",
    "\n",
    "for i in range(9):\n",
    "    plt.subplot(3, 3, i+1)\n",
    "    plt.imshow(x_train[knns_g['ReLU3'][0][samples_gknn[i]], :, :, 0])\n",
    "    \n",
    "plt.show()"
   ]
  },
  {
   "cell_type": "code",
   "execution_count": null,
   "metadata": {},
   "outputs": [],
   "source": []
  }
 ],
 "metadata": {
  "kernelspec": {
   "display_name": "Python 3",
   "language": "python",
   "name": "python3"
  },
  "language_info": {
   "codemirror_mode": {
    "name": "ipython",
    "version": 3
   },
   "file_extension": ".py",
   "mimetype": "text/x-python",
   "name": "python",
   "nbconvert_exporter": "python",
   "pygments_lexer": "ipython3",
   "version": "3.6.9"
  }
 },
 "nbformat": 4,
 "nbformat_minor": 4
}
